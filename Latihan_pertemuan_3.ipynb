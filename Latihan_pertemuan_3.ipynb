{
  "nbformat": 4,
  "nbformat_minor": 0,
  "metadata": {
    "colab": {
      "provenance": [],
      "authorship_tag": "ABX9TyOT16E+trMONf19Sp56PJTJ",
      "include_colab_link": true
    },
    "kernelspec": {
      "name": "python3",
      "display_name": "Python 3"
    },
    "language_info": {
      "name": "python"
    }
  },
  "cells": [
    {
      "cell_type": "markdown",
      "metadata": {
        "id": "view-in-github",
        "colab_type": "text"
      },
      "source": [
        "<a href=\"https://colab.research.google.com/github/Yudhistira-NB/Pemrograman-Dasar/blob/main/Latihan_pertemuan_3.ipynb\" target=\"_parent\"><img src=\"https://colab.research.google.com/assets/colab-badge.svg\" alt=\"Open In Colab\"/></a>"
      ]
    },
    {
      "cell_type": "code",
      "execution_count": null,
      "metadata": {
        "colab": {
          "base_uri": "https://localhost:8080/"
        },
        "id": "qKQDMh3puV1Q",
        "outputId": "fdf3d625-9059-4f27-bfd1-c1b81b77e1d2"
      },
      "outputs": [
        {
          "output_type": "stream",
          "name": "stdout",
          "text": [
            "Masukkan tahun : 2004\n",
            "Apakah tahun 2004 kabisat? True\n"
          ]
        }
      ],
      "source": [
        "#Menentukan Tahun Kabisat\n",
        "year = int(input(\"Masukkan tahun : \"))\n",
        "\n",
        "is_leap_year = (year % 4 == 0 and year % 100 != 0) or (year % 400 == 0)\n",
        "print (f\"Apakah tahun {year} kabisat? {is_leap_year}\")"
      ]
    },
    {
      "cell_type": "code",
      "source": [
        "#Menghitung Indeks Massa Tubuh (IMT)\n",
        "print (\"Kalkulator Indeks Massa Tubuh\")\n",
        "\n",
        "berat = float(input(\"Masukkan berat badan (Kg): \"))\n",
        "tinggi_badan = float(input(\"Masukkan tinggi badan (M): \"))\n",
        "imt = berat // (tinggi_badan ** 2)\n",
        "\n",
        "print (f\"Indeks Massa Tubuh (IMT) anda adalah : {imt}\")\n",
        "if imt < 18.5:\n",
        "  kategori = \"Kurus\"\n",
        "elif 18.5 <= imt < 25.0:\n",
        "  kategori = \"Normal\"\n",
        "elif 25.0 <= imt < 30.0:\n",
        "  kategori = \"Kelebihan Berat Badan\"\n",
        "else:\n",
        "  kategori = \"Obesitas\"\n",
        "\n",
        "print (f\"Kategori berat badan anda: {kategori}\")\n",
        "\n"
      ],
      "metadata": {
        "colab": {
          "base_uri": "https://localhost:8080/"
        },
        "id": "3EUjTv4Q0NVw",
        "outputId": "d68ae0ee-2082-4766-b113-ee28322f1876"
      },
      "execution_count": null,
      "outputs": [
        {
          "output_type": "stream",
          "name": "stdout",
          "text": [
            "Kalkulator Indeks Massa Tubuh\n",
            "Masukkan berat badan (Kg): 65\n",
            "Masukkan tinggi badan (M): 1.73\n",
            "Indeks Massa Tubuh (IMT) anda adalah : 21.0\n",
            "Kategori berat badan anda: Normal\n"
          ]
        }
      ]
    }
  ]
}