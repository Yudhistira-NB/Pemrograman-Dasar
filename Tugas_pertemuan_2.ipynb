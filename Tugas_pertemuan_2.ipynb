{
  "nbformat": 4,
  "nbformat_minor": 0,
  "metadata": {
    "colab": {
      "provenance": [],
      "authorship_tag": "ABX9TyPxwIHVFYcAhtbNpMkFFDpI",
      "include_colab_link": true
    },
    "kernelspec": {
      "name": "python3",
      "display_name": "Python 3"
    },
    "language_info": {
      "name": "python"
    }
  },
  "cells": [
    {
      "cell_type": "markdown",
      "metadata": {
        "id": "view-in-github",
        "colab_type": "text"
      },
      "source": [
        "<a href=\"https://colab.research.google.com/github/Yudhistira-NB/Pemrograman-Dasar/blob/main/Tugas_pertemuan_2.ipynb\" target=\"_parent\"><img src=\"https://colab.research.google.com/assets/colab-badge.svg\" alt=\"Open In Colab\"/></a>"
      ]
    },
    {
      "cell_type": "code",
      "execution_count": null,
      "metadata": {
        "colab": {
          "base_uri": "https://localhost:8080/"
        },
        "id": "BOGhc7IY5Rlb",
        "outputId": "4fdda2d0-9b45-41bb-d545-13fbe97853b4"
      },
      "outputs": [
        {
          "output_type": "stream",
          "name": "stdout",
          "text": [
            "Candra\n",
            "Yudhistira\n",
            "21\n",
            "False\n"
          ]
        }
      ],
      "source": [
        "firstname = \"Candra\"\n",
        "lastname = \"Yudhistira\"\n",
        "age = 21\n",
        "ismarried = False\n",
        "\n",
        "print (firstname)\n",
        "print (lastname)\n",
        "print (age)\n",
        "print (ismarried)"
      ]
    },
    {
      "cell_type": "code",
      "source": [
        "data_diri = {\"firstname\":\"Candra\", \"lastname\":\"Yudhistira\", \"age\":21, \"ismarried\":False}\n",
        "\n",
        "print(type(data_diri))\n",
        "print (data_diri[\"firstname\"])\n",
        "print (data_diri[\"lastname\"])\n",
        "print (data_diri[\"age\"])\n",
        "print (data_diri[\"ismarried\"])"
      ],
      "metadata": {
        "colab": {
          "base_uri": "https://localhost:8080/"
        },
        "id": "vTTqs_QH6NDx",
        "outputId": "6317a44a-bb83-4cc9-e94a-ee8971230a86"
      },
      "execution_count": null,
      "outputs": [
        {
          "output_type": "stream",
          "name": "stdout",
          "text": [
            "<class 'dict'>\n",
            "Candra\n",
            "Yudhistira\n",
            "21\n",
            "False\n"
          ]
        }
      ]
    },
    {
      "cell_type": "code",
      "source": [
        "inspeksi = ['Pemahaman terhadap rencana dan desain',\n",
        "            'Ketersedian bahan dan peralatan',\n",
        "            'Pengawasan pekerjaan',\n",
        "            'Kualitas kontruksi',\n",
        "            'Keselamatan kerja',\n",
        "            'koordinasi dengan pemilik proyek']\n",
        "\n",
        "print (type(inspeksi))\n",
        "print (inspeksi[0])\n",
        "print (inspeksi[1])\n",
        "print (inspeksi[2])\n",
        "print (inspeksi[3])\n",
        "print (inspeksi[4])\n",
        "print (inspeksi[5])"
      ],
      "metadata": {
        "colab": {
          "base_uri": "https://localhost:8080/"
        },
        "id": "2velYsOc7D8Z",
        "outputId": "42e991ed-0398-415f-c038-a20a9860bbaf"
      },
      "execution_count": 16,
      "outputs": [
        {
          "output_type": "stream",
          "name": "stdout",
          "text": [
            "<class 'list'>\n",
            "Pemahaman terhadap rencana dan desain\n",
            "Ketersedian bahan dan peralatan\n",
            "Pengawasan pekerjaan\n",
            "Kualitas kontruksi\n",
            "Keselamatan kerja\n",
            "koordinasi dengan pemilik proyek\n"
          ]
        }
      ]
    },
    {
      "cell_type": "code",
      "source": [
        "starttime = {\"HH\":9, \"mm\":23, \"ss\":57}\n",
        "endtime = {\"HH\":15, \"mm\":25, \"ss\":43}\n",
        "\n",
        "print (type(starttime))\n",
        "print (type(endtime))\n",
        "\n",
        "print(starttime)\n",
        "print(endtime)\n",
        "\n",
        "print (\"Starttime\")\n",
        "print (starttime[\"HH\"])\n",
        "print (starttime[\"mm\"])\n",
        "print (starttime[\"ss\"])\n",
        "\n",
        "print (\"Endtime\")\n",
        "print (endtime[\"HH\"])\n",
        "print (endtime[\"mm\"])\n",
        "print (endtime[\"ss\"])"
      ],
      "metadata": {
        "colab": {
          "base_uri": "https://localhost:8080/"
        },
        "id": "vzOLfW4k75wV",
        "outputId": "5b84e260-dceb-4d87-846f-82326021c9ec"
      },
      "execution_count": 23,
      "outputs": [
        {
          "output_type": "stream",
          "name": "stdout",
          "text": [
            "<class 'dict'>\n",
            "<class 'dict'>\n",
            "{'HH': 9, 'mm': 23, 'ss': 57}\n",
            "{'HH': 15, 'mm': 25, 'ss': 43}\n",
            "Starttime\n",
            "9\n",
            "23\n",
            "57\n",
            "Endtime\n",
            "15\n",
            "25\n",
            "43\n"
          ]
        }
      ]
    },
    {
      "cell_type": "code",
      "source": [
        "#Penggabungan dan analisis katalog produk\n",
        "\n",
        "katalog_A = {\"kipas\", \"solder\", \"TV\", \"lampu\", \"saklar\"}\n",
        "katalog_B = {\"solder\", \"kabel\", \"isolasi\", \"lampu\", \"socket\", \"kipas\"}\n",
        "produk_diskon = (\"TV\", \"lampu\", \"solder\", \"socket\", \"blower\", \"toolset\")\n",
        "\n",
        "katalog_lengkap = katalog_A.union(katalog_B)\n",
        "produk_promo_aktif = katalog_lengkap.intersection(produk_diskon)\n",
        "\n",
        "print (katalog_lengkap)\n",
        "print (produk_promo_aktif)"
      ],
      "metadata": {
        "colab": {
          "base_uri": "https://localhost:8080/"
        },
        "id": "tAMDk2eR8vnE",
        "outputId": "f3b49cf6-6ad6-4f6b-d4d0-7fb18146478b"
      },
      "execution_count": null,
      "outputs": [
        {
          "output_type": "stream",
          "name": "stdout",
          "text": [
            "{'socket', 'solder', 'TV', 'isolasi', 'saklar', 'kabel', 'lampu', 'kipas'}\n",
            "{'TV', 'lampu', 'socket', 'solder'}\n"
          ]
        }
      ]
    }
  ]
}