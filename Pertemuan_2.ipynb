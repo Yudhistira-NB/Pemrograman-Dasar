{
  "nbformat": 4,
  "nbformat_minor": 0,
  "metadata": {
    "colab": {
      "provenance": [],
      "authorship_tag": "ABX9TyOAk1odF7bjADHpqxRqlqqU",
      "include_colab_link": true
    },
    "kernelspec": {
      "name": "python3",
      "display_name": "Python 3"
    },
    "language_info": {
      "name": "python"
    }
  },
  "cells": [
    {
      "cell_type": "markdown",
      "metadata": {
        "id": "view-in-github",
        "colab_type": "text"
      },
      "source": [
        "<a href=\"https://colab.research.google.com/github/Yudhistira-NB/Pemrograman-Dasar/blob/main/Pertemuan_2.ipynb\" target=\"_parent\"><img src=\"https://colab.research.google.com/assets/colab-badge.svg\" alt=\"Open In Colab\"/></a>"
      ]
    },
    {
      "cell_type": "code",
      "source": [
        "#Deklarasi variabel list\n",
        "numbers = [23, 43, 15, 34]\n",
        "#Pengaksesan elemen\n",
        "numbers[1] = 2\n",
        "\n",
        "print (numbers[0])\n",
        "print (numbers[1])\n",
        "print (numbers[2])\n",
        "print (numbers[3])"
      ],
      "metadata": {
        "colab": {
          "base_uri": "https://localhost:8080/"
        },
        "id": "hhvuO5HxXKaX",
        "outputId": "bdae3739-2fde-4cae-b2c0-9d9f1fe90f81"
      },
      "execution_count": 7,
      "outputs": [
        {
          "output_type": "stream",
          "name": "stdout",
          "text": [
            "23\n",
            "2\n",
            "15\n",
            "34\n"
          ]
        }
      ]
    },
    {
      "cell_type": "code",
      "source": [
        "numbers = [1,2,3,4]\n",
        "numbers.insert(4, 5)\n",
        "numbers[1] = 10\n",
        "numbers.pop(3)\n",
        "\n",
        "print (numbers)"
      ],
      "metadata": {
        "colab": {
          "base_uri": "https://localhost:8080/"
        },
        "id": "hQ_wMseeXZ-H",
        "outputId": "2fd0cb3b-ca53-449e-a20f-d561c5aaabd2"
      },
      "execution_count": 14,
      "outputs": [
        {
          "output_type": "stream",
          "name": "stdout",
          "text": [
            "[1, 10, 3, 5]\n"
          ]
        }
      ]
    },
    {
      "cell_type": "code",
      "source": [
        "x = \"polibatam\"\n",
        "print (x[0])\n",
        "\n",
        "print (x[1:])"
      ],
      "metadata": {
        "colab": {
          "base_uri": "https://localhost:8080/"
        },
        "id": "22W6CR7xYYIB",
        "outputId": "293acb8a-ca79-4ae0-e2e4-a93be06362d8"
      },
      "execution_count": null,
      "outputs": [
        {
          "output_type": "stream",
          "name": "stdout",
          "text": [
            "p\n",
            "olibatam\n"
          ]
        }
      ]
    },
    {
      "cell_type": "code",
      "source": [
        "name = \"Candra Yudhistira\"\n",
        "print (f\"Hello, nama saya {name}\")\n",
        "\n",
        "print (\"Nama saya %s\" % (name))\n",
        "\n",
        "print (\"nama saya \")"
      ],
      "metadata": {
        "colab": {
          "base_uri": "https://localhost:8080/"
        },
        "id": "YhVXSI6KZYdW",
        "outputId": "9b7f18c4-42f6-42f5-834f-416cc304fd83"
      },
      "execution_count": null,
      "outputs": [
        {
          "output_type": "stream",
          "name": "stdout",
          "text": [
            "Hello, nama saya Candra Yudhistira\n",
            "Nama saya Candra Yudhistira\n",
            "nama saya \n"
          ]
        }
      ]
    },
    {
      "cell_type": "code",
      "source": [
        "numbers = [23, 43, 15, 34]\n",
        "\n",
        "numbers[0]\n",
        "numbers[1] = 41\n",
        "\n",
        "print (numbers[1])\n",
        "print (numbers[0])\n",
        "print (numbers[2])\n",
        "print (numbers[3])"
      ],
      "metadata": {
        "colab": {
          "base_uri": "https://localhost:8080/"
        },
        "id": "HgaiI7O3aW1n",
        "outputId": "0cb5d2fc-792e-4430-d3c2-957f4c02fa40"
      },
      "execution_count": null,
      "outputs": [
        {
          "output_type": "stream",
          "name": "stdout",
          "text": [
            "41\n",
            "23\n",
            "15\n",
            "34\n"
          ]
        }
      ]
    },
    {
      "cell_type": "code",
      "source": [
        "numbers = [1,2,3]\n",
        "numbers.insert(4,5)\n",
        "numbers[3] = 4\n",
        "numbers.pop(2)\n",
        "\n",
        "print (numbers)"
      ],
      "metadata": {
        "colab": {
          "base_uri": "https://localhost:8080/"
        },
        "id": "Hjjl4yOXbt-B",
        "outputId": "fad80861-e14b-46e7-c7b4-6737c5ee2f61"
      },
      "execution_count": null,
      "outputs": [
        {
          "output_type": "stream",
          "name": "stdout",
          "text": [
            "[1, 2, 4]\n"
          ]
        }
      ]
    },
    {
      "cell_type": "code",
      "source": [
        "mylist = [1, \"rumah\", 4.5, True, [\"kamar mandi\", \"kamar Tidur\"]]\n",
        "print (mylist[4][1])\n",
        "print (mylist[4][0])"
      ],
      "metadata": {
        "colab": {
          "base_uri": "https://localhost:8080/"
        },
        "id": "ZGsp5qoedkEg",
        "outputId": "fa5feee1-d25c-41b1-a0f2-fb53db1f945e"
      },
      "execution_count": null,
      "outputs": [
        {
          "output_type": "stream",
          "name": "stdout",
          "text": [
            "kamar Tidur\n",
            "kamar mandi\n"
          ]
        }
      ]
    },
    {
      "cell_type": "code",
      "source": [
        "X = [\"laptop\", \"monitor\", \"mouse\", \"mousepad\", \"Keyboard\"]\n",
        "\n",
        "print (X[0:3:1])\n",
        "print (X[2:])\n",
        "print(X[1:4])"
      ],
      "metadata": {
        "colab": {
          "base_uri": "https://localhost:8080/"
        },
        "id": "dV621ok0e_r5",
        "outputId": "7813d963-b0e9-47a8-9d71-731b2aaea313"
      },
      "execution_count": null,
      "outputs": [
        {
          "output_type": "stream",
          "name": "stdout",
          "text": [
            "['laptop', 'monitor', 'mouse']\n",
            "['mouse', 'mousepad', 'Keyboard']\n",
            "['monitor', 'mouse', 'mousepad']\n"
          ]
        }
      ]
    }
  ]
}