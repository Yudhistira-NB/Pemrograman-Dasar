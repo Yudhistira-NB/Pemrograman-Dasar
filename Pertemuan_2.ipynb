{
  "nbformat": 4,
  "nbformat_minor": 0,
  "metadata": {
    "colab": {
      "provenance": [],
      "authorship_tag": "ABX9TyOnw7BaaeRvCr9r94noFpBB",
      "include_colab_link": true
    },
    "kernelspec": {
      "name": "python3",
      "display_name": "Python 3"
    },
    "language_info": {
      "name": "python"
    }
  },
  "cells": [
    {
      "cell_type": "markdown",
      "metadata": {
        "id": "view-in-github",
        "colab_type": "text"
      },
      "source": [
        "<a href=\"https://colab.research.google.com/github/Yudhistira-NB/Pemrograman-Dasar/blob/main/Pertemuan_2.ipynb\" target=\"_parent\"><img src=\"https://colab.research.google.com/assets/colab-badge.svg\" alt=\"Open In Colab\"/></a>"
      ]
    },
    {
      "cell_type": "code",
      "source": [
        "#Deklarasi variabel list\n",
        "numbers = [23, 43, 15, 34]\n",
        "#Pengaksesan elemen\n",
        "numbers[1] = 2\n",
        "\n",
        "print (numbers[0])\n",
        "print (numbers[1])\n",
        "print (numbers[2])\n",
        "print (numbers[3])"
      ],
      "metadata": {
        "id": "hhvuO5HxXKaX"
      },
      "execution_count": null,
      "outputs": []
    },
    {
      "cell_type": "code",
      "source": [
        "numbers = [1,2,3,4]\n",
        "numbers.insert(4, 5)\n",
        "numbers[1] = 10\n",
        "numbers.pop(3)\n",
        "\n",
        "print (numbers)"
      ],
      "metadata": {
        "id": "hQ_wMseeXZ-H"
      },
      "execution_count": null,
      "outputs": []
    },
    {
      "cell_type": "code",
      "source": [
        "#Deklarasi variabel list\n",
        "mylist = [1, \"rumah\", 4.5, True, ['kamar mandi', 'kamar tidur']]\n",
        "#mengakses elemen dalam variable\n",
        "print(mylist[1])\n",
        "#Mengakses elemen dalam sublist\n",
        "print (mylist[4][1])"
      ],
      "metadata": {
        "colab": {
          "base_uri": "https://localhost:8080/"
        },
        "id": "22W6CR7xYYIB",
        "outputId": "8073d8c2-3958-412f-ee71-1040bfc02197"
      },
      "execution_count": 33,
      "outputs": [
        {
          "output_type": "stream",
          "name": "stdout",
          "text": [
            "rumah\n",
            "kamar tidur\n"
          ]
        }
      ]
    },
    {
      "cell_type": "code",
      "source": [
        "#slicing List\n",
        "x = ['laptop', 'monitor', 'mouse', 'mousepad', 'keyboard', 'webcam', 'microphone']\n",
        "\n",
        "print(x[0:5:2])\n",
        "print(x[1:])\n",
        "print (x[:3])"
      ],
      "metadata": {
        "colab": {
          "base_uri": "https://localhost:8080/"
        },
        "id": "YhVXSI6KZYdW",
        "outputId": "05d2f913-b35c-4300-f786-6da037cb04d3"
      },
      "execution_count": 34,
      "outputs": [
        {
          "output_type": "stream",
          "name": "stdout",
          "text": [
            "['laptop', 'mouse', 'keyboard']\n",
            "['monitor', 'mouse', 'mousepad', 'keyboard', 'webcam', 'microphone']\n",
            "['laptop', 'monitor', 'mouse']\n"
          ]
        }
      ]
    },
    {
      "cell_type": "code",
      "source": [
        "x = (5, \"program\", 1+3j)\n",
        "print(type(x))\n",
        "print(x)\n",
        "print(x[1])\n",
        "print(x[0:3])"
      ],
      "metadata": {
        "colab": {
          "base_uri": "https://localhost:8080/"
        },
        "id": "HgaiI7O3aW1n",
        "outputId": "6a55c94a-475a-47a0-b1bc-ce8254c8b6cf"
      },
      "execution_count": 35,
      "outputs": [
        {
          "output_type": "stream",
          "name": "stdout",
          "text": [
            "<class 'tuple'>\n",
            "(5, 'program', (1+3j))\n",
            "program\n",
            "(5, 'program', (1+3j))\n"
          ]
        }
      ]
    },
    {
      "cell_type": "code",
      "source": [
        "#Deklarasi variabel set a dan b\n",
        "a = {1, 2, 3}\n",
        "b = {2, 3, 4}\n",
        "#Operasi Gabungan\n",
        "gabungan = a.union(b)\n",
        "print (gabungan)\n",
        "#Operasi Irisan\n",
        "seleksi = a.intersection(b)\n",
        "print (seleksi)\n",
        "#Operasi perbedaan\n",
        "perbedaan = a.symmetric_difference(b)\n",
        "print (perbedaan)"
      ],
      "metadata": {
        "colab": {
          "base_uri": "https://localhost:8080/"
        },
        "id": "Hjjl4yOXbt-B",
        "outputId": "f7a7ff5e-df10-4af8-a367-af4882eeef87"
      },
      "execution_count": 36,
      "outputs": [
        {
          "output_type": "stream",
          "name": "stdout",
          "text": [
            "{1, 2, 3, 4}\n",
            "{2, 3}\n",
            "{1, 4}\n"
          ]
        }
      ]
    },
    {
      "cell_type": "code",
      "source": [
        "#Dictionary\n",
        "x = {\"name\":'Candra Yudhistira', \"age\":21, \"ismarried\":False}\n",
        "\n",
        "print (type(x))\n",
        "print (x[\"name\"])\n",
        "\n",
        "x [\"job\"] = 'web developer'\n",
        "print (x)\n",
        "\n",
        "del x[\"ismarried\"]\n",
        "print (x)\n",
        "\n",
        "x[\"age\"] = 22\n",
        "print (x)"
      ],
      "metadata": {
        "colab": {
          "base_uri": "https://localhost:8080/"
        },
        "id": "ZGsp5qoedkEg",
        "outputId": "44e8f3f8-19e9-4c0f-d4ad-1be5fe9b8b35"
      },
      "execution_count": 37,
      "outputs": [
        {
          "output_type": "stream",
          "name": "stdout",
          "text": [
            "<class 'dict'>\n",
            "Candra Yudhistira\n",
            "{'name': 'Candra Yudhistira', 'age': 21, 'ismarried': False, 'job': 'web developer'}\n",
            "{'name': 'Candra Yudhistira', 'age': 21, 'job': 'web developer'}\n",
            "{'name': 'Candra Yudhistira', 'age': 22, 'job': 'web developer'}\n"
          ]
        }
      ]
    },
    {
      "cell_type": "code",
      "source": [
        "propertydetail = {'numfloors': 1, 'propertytype':'rumah', 'hasterrace':True, 'hasgarage':False}\n",
        "\n",
        "print (propertydetail ['numfloors'])\n",
        "print (propertydetail ['propertytype'])\n",
        "print (propertydetail ['hasterrace'])\n",
        "\n",
        "propertydetail['hasgarage'] = True\n",
        "print (propertydetail['hasgarage'])"
      ],
      "metadata": {
        "colab": {
          "base_uri": "https://localhost:8080/"
        },
        "id": "r72Y3Nmsqz4k",
        "outputId": "fa4dbe0b-46a3-4bf9-f688-ef88ed0d8aa3"
      },
      "execution_count": 41,
      "outputs": [
        {
          "output_type": "stream",
          "name": "stdout",
          "text": [
            "1\n",
            "rumah\n",
            "True\n",
            "True\n"
          ]
        }
      ]
    }
  ]
}