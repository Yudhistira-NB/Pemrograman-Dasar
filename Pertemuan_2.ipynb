{
  "nbformat": 4,
  "nbformat_minor": 0,
  "metadata": {
    "colab": {
      "provenance": [],
      "authorship_tag": "ABX9TyOdje1OQzDr28qBomzFbHEt",
      "include_colab_link": true
    },
    "kernelspec": {
      "name": "python3",
      "display_name": "Python 3"
    },
    "language_info": {
      "name": "python"
    }
  },
  "cells": [
    {
      "cell_type": "markdown",
      "metadata": {
        "id": "view-in-github",
        "colab_type": "text"
      },
      "source": [
        "<a href=\"https://colab.research.google.com/github/Yudhistira-NB/Pemrograman-Dasar/blob/main/Pertemuan_2.ipynb\" target=\"_parent\"><img src=\"https://colab.research.google.com/assets/colab-badge.svg\" alt=\"Open In Colab\"/></a>"
      ]
    },
    {
      "cell_type": "code",
      "source": [
        "age = 17\n",
        "salary = 5000000.0\n",
        "\n",
        "print (type(age))\n",
        "print (type(salary))"
      ],
      "metadata": {
        "colab": {
          "base_uri": "https://localhost:8080/"
        },
        "id": "Nbh_ryEEVygK",
        "outputId": "a30c5e56-f038-462c-f7c9-e1074d114481"
      },
      "execution_count": 5,
      "outputs": [
        {
          "output_type": "stream",
          "name": "stdout",
          "text": [
            "<class 'int'>\n",
            "<class 'float'>\n"
          ]
        }
      ]
    },
    {
      "cell_type": "code",
      "source": [
        "var = 10\n",
        "print (var)\n",
        "print (id(var))\n",
        "var = 11\n",
        "print (var)\n",
        "print (id(var))"
      ],
      "metadata": {
        "colab": {
          "base_uri": "https://localhost:8080/"
        },
        "id": "LVqK6PbAWqp_",
        "outputId": "af969578-3694-43a7-bd14-7a091b8a9cee"
      },
      "execution_count": 7,
      "outputs": [
        {
          "output_type": "stream",
          "name": "stdout",
          "text": [
            "10\n",
            "11642376\n",
            "11\n",
            "11642408\n"
          ]
        }
      ]
    },
    {
      "cell_type": "code",
      "source": [
        "x = \"polibatam\"\n",
        "print (type(x))"
      ],
      "metadata": {
        "colab": {
          "base_uri": "https://localhost:8080/"
        },
        "id": "hhvuO5HxXKaX",
        "outputId": "103a5e9c-1420-49f1-e189-1a43a4f3114e"
      },
      "execution_count": 8,
      "outputs": [
        {
          "output_type": "stream",
          "name": "stdout",
          "text": [
            "<class 'str'>\n"
          ]
        }
      ]
    },
    {
      "cell_type": "code",
      "source": [
        "multi_line = \"\"\"Halo!\n",
        "kapan terakhir kali kita bertemu?\n",
        "semoga kamu baik-baik saja\"\"\"\n",
        "\n",
        "print (multi_line)\n"
      ],
      "metadata": {
        "colab": {
          "base_uri": "https://localhost:8080/"
        },
        "id": "hQ_wMseeXZ-H",
        "outputId": "c8e1a6f1-bb72-478b-89f6-1be249c61455"
      },
      "execution_count": 15,
      "outputs": [
        {
          "output_type": "stream",
          "name": "stdout",
          "text": [
            "Halo!\n",
            "kapan terakhir kali kita bertemu?\n",
            "semoga kamu baik-baik saja\n"
          ]
        }
      ]
    },
    {
      "cell_type": "code",
      "source": [
        "x = \"polibatam\"\n",
        "print (x[0])\n",
        "\n",
        "print (x[1:])"
      ],
      "metadata": {
        "colab": {
          "base_uri": "https://localhost:8080/"
        },
        "id": "22W6CR7xYYIB",
        "outputId": "293acb8a-ca79-4ae0-e2e4-a93be06362d8"
      },
      "execution_count": 21,
      "outputs": [
        {
          "output_type": "stream",
          "name": "stdout",
          "text": [
            "p\n",
            "olibatam\n"
          ]
        }
      ]
    },
    {
      "cell_type": "code",
      "source": [
        "name = \"Candra Yudhistira\"\n",
        "print (f\"Hello, nama saya {name}\")\n",
        "\n",
        "print (\"Nama saya %s\" % (name))\n",
        "\n",
        "print (\"nama saya \")"
      ],
      "metadata": {
        "colab": {
          "base_uri": "https://localhost:8080/"
        },
        "id": "YhVXSI6KZYdW",
        "outputId": "9b7f18c4-42f6-42f5-834f-416cc304fd83"
      },
      "execution_count": 27,
      "outputs": [
        {
          "output_type": "stream",
          "name": "stdout",
          "text": [
            "Hello, nama saya Candra Yudhistira\n",
            "Nama saya Candra Yudhistira\n",
            "nama saya \n"
          ]
        }
      ]
    },
    {
      "cell_type": "code",
      "source": [
        "numbers = [23, 43, 15, 34]\n",
        "\n",
        "numbers[0]\n",
        "numbers[1] = 41\n",
        "\n",
        "print (numbers[1])\n",
        "print (numbers[0])\n",
        "print (numbers[2])\n",
        "print (numbers[3])"
      ],
      "metadata": {
        "colab": {
          "base_uri": "https://localhost:8080/"
        },
        "id": "HgaiI7O3aW1n",
        "outputId": "0cb5d2fc-792e-4430-d3c2-957f4c02fa40"
      },
      "execution_count": 40,
      "outputs": [
        {
          "output_type": "stream",
          "name": "stdout",
          "text": [
            "41\n",
            "23\n",
            "15\n",
            "34\n"
          ]
        }
      ]
    },
    {
      "cell_type": "code",
      "source": [
        "numbers = [1,2,3]\n",
        "numbers.insert(4,5)\n",
        "numbers[3] = 4\n",
        "numbers.pop(2)\n",
        "\n",
        "print (numbers)"
      ],
      "metadata": {
        "colab": {
          "base_uri": "https://localhost:8080/"
        },
        "id": "Hjjl4yOXbt-B",
        "outputId": "fad80861-e14b-46e7-c7b4-6737c5ee2f61"
      },
      "execution_count": 53,
      "outputs": [
        {
          "output_type": "stream",
          "name": "stdout",
          "text": [
            "[1, 2, 4]\n"
          ]
        }
      ]
    },
    {
      "cell_type": "code",
      "source": [
        "mylist = [1, \"rumah\", 4.5, True, [\"kamar mandi\", \"kamar Tidur\"]]\n",
        "print (mylist[4][1])\n",
        "print (mylist[4][0])"
      ],
      "metadata": {
        "colab": {
          "base_uri": "https://localhost:8080/"
        },
        "id": "ZGsp5qoedkEg",
        "outputId": "fa5feee1-d25c-41b1-a0f2-fb53db1f945e"
      },
      "execution_count": 68,
      "outputs": [
        {
          "output_type": "stream",
          "name": "stdout",
          "text": [
            "kamar Tidur\n",
            "kamar mandi\n"
          ]
        }
      ]
    },
    {
      "cell_type": "code",
      "source": [
        "X = [\"laptop\", \"monitor\", \"mouse\", \"mousepad\", \"Keyboard\"]\n",
        "\n",
        "print (X[0:3:1])\n",
        "print (X[2:])\n",
        "print(X[1:4])"
      ],
      "metadata": {
        "colab": {
          "base_uri": "https://localhost:8080/"
        },
        "id": "dV621ok0e_r5",
        "outputId": "7813d963-b0e9-47a8-9d71-731b2aaea313"
      },
      "execution_count": 67,
      "outputs": [
        {
          "output_type": "stream",
          "name": "stdout",
          "text": [
            "['laptop', 'monitor', 'mouse']\n",
            "['mouse', 'mousepad', 'Keyboard']\n",
            "['monitor', 'mouse', 'mousepad']\n"
          ]
        }
      ]
    }
  ]
}