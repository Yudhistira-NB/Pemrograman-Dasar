{
  "nbformat": 4,
  "nbformat_minor": 0,
  "metadata": {
    "colab": {
      "provenance": [],
      "authorship_tag": "ABX9TyOnz06Oeyuyf0W51QIaDyPw",
      "include_colab_link": true
    },
    "kernelspec": {
      "name": "python3",
      "display_name": "Python 3"
    },
    "language_info": {
      "name": "python"
    }
  },
  "cells": [
    {
      "cell_type": "markdown",
      "metadata": {
        "id": "view-in-github",
        "colab_type": "text"
      },
      "source": [
        "<a href=\"https://colab.research.google.com/github/Yudhistira-NB/Pemrograman-Dasar/blob/main/Pertemuan_1.ipynb\" target=\"_parent\"><img src=\"https://colab.research.google.com/assets/colab-badge.svg\" alt=\"Open In Colab\"/></a>"
      ]
    },
    {
      "cell_type": "code",
      "execution_count": 11,
      "metadata": {
        "colab": {
          "base_uri": "https://localhost:8080/"
        },
        "id": "MEIWO-5RTSw5",
        "outputId": "938a6c50-637e-432b-cd52-c48111ac8cf1"
      },
      "outputs": [
        {
          "output_type": "stream",
          "name": "stdout",
          "text": [
            "Candra\n",
            "21\n",
            "1.75\n",
            "Laki-laki\n",
            "INDONESIA\n",
            "Islam\n",
            "RPE\n",
            "3\n",
            "Pemrograman Dasar\n",
            "False\n",
            "False\n"
          ]
        }
      ],
      "source": [
        "# Biodata Saya\n",
        "\n",
        "nama = \"Candra\"\n",
        "umur = 21\n",
        "tinggi_badan = 1.75\n",
        "jenis_kelamin = \"Laki-laki\"\n",
        "kewarganegaraan = \"INDONESIA\"\n",
        "agama = \"Islam\"\n",
        "jurusan = \"RPE\"\n",
        "semester = 3\n",
        "matakuliah = 'Pemrograman Dasar'\n",
        "status_lulus = False\n",
        "\n",
        "print (nama)\n",
        "print (umur)\n",
        "print (tinggi_badan)\n",
        "print (jenis_kelamin)\n",
        "print (kewarganegaraan)\n",
        "print (agama)\n",
        "print (jurusan)\n",
        "print (semester)\n",
        "print (matakuliah)\n",
        "print (status_lulus)"
      ]
    }
  ]
}