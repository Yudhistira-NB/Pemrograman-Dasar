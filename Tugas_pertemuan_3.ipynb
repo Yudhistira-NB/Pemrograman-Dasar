{
  "nbformat": 4,
  "nbformat_minor": 0,
  "metadata": {
    "colab": {
      "provenance": [],
      "authorship_tag": "ABX9TyOlRfQZU8SCyjB9k1WRZ9Wv",
      "include_colab_link": true
    },
    "kernelspec": {
      "name": "python3",
      "display_name": "Python 3"
    },
    "language_info": {
      "name": "python"
    }
  },
  "cells": [
    {
      "cell_type": "markdown",
      "metadata": {
        "id": "view-in-github",
        "colab_type": "text"
      },
      "source": [
        "<a href=\"https://colab.research.google.com/github/Yudhistira-NB/Pemrograman-Dasar/blob/main/Tugas_pertemuan_3.ipynb\" target=\"_parent\"><img src=\"https://colab.research.google.com/assets/colab-badge.svg\" alt=\"Open In Colab\"/></a>"
      ]
    },
    {
      "cell_type": "code",
      "execution_count": 31,
      "metadata": {
        "colab": {
          "base_uri": "https://localhost:8080/"
        },
        "id": "PFXrNHrW_6Ba",
        "outputId": "7b1cca19-cd42-4086-cb56-b6a50c641d7a"
      },
      "outputs": [
        {
          "output_type": "stream",
          "name": "stdout",
          "text": [
            "Masukkan jumlah total belanja : Rp.500000\n",
            "Apakah customer mempunyai member? (ketik 'ya' atau 'tidak') : ya\n",
            "Total Belanja            = Rp.500,000.00\n",
            "Status member            = True\n",
            "Berhak diskon 15%        = True\n",
            "Jumlah diskon            = Rp.75,000.00\n",
            "Harga setelah diskon     = Rp.425,000.00\n",
            "*\n",
            "PPN 11%                  = Rp.46,750.00\n",
            "Total yang harus dibayar = Rp.471,750.00\n"
          ]
        }
      ],
      "source": [
        "#Program Kasir Sederhana\n",
        "\n",
        "subtotal_discount = 100000\n",
        "ppn_rate = 0.11\n",
        "discount_rate = 0.15\n",
        "subtotal = float(input(f\"Masukkan jumlah total belanja : Rp.\"))\n",
        "member = str(input(\"Apakah customer mempunyai member? (ketik 'ya' atau 'tidak') : \"))\n",
        "status = (member == 'ya')\n",
        "berhak_diskon = status and (subtotal >= subtotal_discount)\n",
        "if berhak_diskon:\n",
        "  jumlah_diskon = subtotal * discount_rate\n",
        "else :\n",
        "  jumlah_diskon = 0.0\n",
        "\n",
        "harga_setelah_diskon = subtotal - jumlah_diskon\n",
        "jumlah_ppn = harga_setelah_diskon * ppn_rate\n",
        "total_akhir = harga_setelah_diskon + jumlah_ppn\n",
        "\n",
        "print (f\"Total Belanja            = Rp.{subtotal:,.2f}\")\n",
        "print (f\"Status member            = {status}\")\n",
        "print (f\"Berhak diskon 15%        = {berhak_diskon}\")\n",
        "print (f\"Jumlah diskon            = Rp.{jumlah_diskon:,.2f}\")\n",
        "print (f\"Harga setelah diskon     = Rp.{harga_setelah_diskon:,.2f}\")\n",
        "print (\"*\")\n",
        "print (f\"PPN 11%                  = Rp.{jumlah_ppn:,.2f}\")\n",
        "print (f\"Total yang harus dibayar = Rp.{total_akhir:,.2f}\")"
      ]
    },
    {
      "cell_type": "code",
      "source": [],
      "metadata": {
        "id": "jptdROijNtI0"
      },
      "execution_count": null,
      "outputs": []
    }
  ]
}