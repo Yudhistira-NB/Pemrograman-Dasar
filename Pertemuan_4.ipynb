{
  "nbformat": 4,
  "nbformat_minor": 0,
  "metadata": {
    "colab": {
      "provenance": [],
      "authorship_tag": "ABX9TyOoI+oDX2Hg/dP/Pf9ZB2u2",
      "include_colab_link": true
    },
    "kernelspec": {
      "name": "python3",
      "display_name": "Python 3"
    },
    "language_info": {
      "name": "python"
    }
  },
  "cells": [
    {
      "cell_type": "markdown",
      "metadata": {
        "id": "view-in-github",
        "colab_type": "text"
      },
      "source": [
        "<a href=\"https://colab.research.google.com/github/Yudhistira-NB/Pemrograman-Dasar/blob/main/Pertemuan_4.ipynb\" target=\"_parent\"><img src=\"https://colab.research.google.com/assets/colab-badge.svg\" alt=\"Open In Colab\"/></a>"
      ]
    },
    {
      "cell_type": "code",
      "execution_count": null,
      "metadata": {
        "colab": {
          "base_uri": "https://localhost:8080/"
        },
        "id": "sBtlQx-JaS4h",
        "outputId": "98d71d82-0152-421f-9e46-c050228aac2d"
      },
      "outputs": [
        {
          "output_type": "stream",
          "name": "stdout",
          "text": [
            "Pengunjung adalah orang dewasa\n"
          ]
        }
      ],
      "source": [
        "#Variabel untuk menyimpan umur pengunjung\n",
        "umur = 20\n",
        "if umur > 17:\n",
        "  print(\"Pengunjung adalah orang dewasa\")"
      ]
    },
    {
      "cell_type": "code",
      "source": [
        "username = input(\"Masukkan Username: \")\n",
        "password = input(\"Masukkan Password: \")\n",
        "\n",
        "if username == \"admin\" and password == \"1234\":\n",
        "  print (\"Login Berhasil\")\n",
        "else:\n",
        "  print (\"Login Gagal\")"
      ],
      "metadata": {
        "colab": {
          "base_uri": "https://localhost:8080/"
        },
        "id": "7reT8Arka7Pi",
        "outputId": "31702b0a-69d3-45c1-d91e-cde424014aa9"
      },
      "execution_count": null,
      "outputs": [
        {
          "output_type": "stream",
          "name": "stdout",
          "text": [
            "Masukkan Username: admin\n",
            "Masukkan Password: 1234\n",
            "Login Berhasil\n"
          ]
        }
      ]
    },
    {
      "cell_type": "code",
      "source": [
        "#Program untuk mengecek bonus dan diskon\n",
        "total_belanja = (input(\"Total belanja: Rp \"))\n",
        "bayar = int(total_belanja)\n",
        "if total_belanja > 100000:\n",
        "  print(\"Selamat, karna anda belanja diatas Rp. 100.000. anda mendapatkan voucher makan\")\n",
        "  print (\"dan diskon 5%\")\n",
        "diskon = total_belanja * 5/100\n",
        "bayar = total_belanja - diskon\n",
        "\n",
        "print (\"Total belanja yang harus dibayar: Rp %s\" % bayar)\n",
        "print (\"Terimakasih sudah berbelanja di toko kami\")\n",
        "print (\"Kami tunggu kunjungan anda selanjutnya\")"
      ],
      "metadata": {
        "colab": {
          "base_uri": "https://localhost:8080/"
        },
        "id": "OqcQ2c4mb5IQ",
        "outputId": "c5020ba0-203e-4aff-ffcb-e4dfdb4c79b4"
      },
      "execution_count": null,
      "outputs": [
        {
          "output_type": "stream",
          "name": "stdout",
          "text": [
            "Total belanja: Rp 100000\n",
            "Total belanja yang harus dibayar: Rp 95000.0\n",
            "Terimakasih sudah berbelanja di toko kami\n",
            "Kami tunggu kunjungan anda selanjutnya\n"
          ]
        }
      ]
    },
    {
      "cell_type": "code",
      "source": [
        "ada_notifikasi_baru = bool = True\n",
        "if ada_notifikasi_baru:\n",
        "  print(\"Anda memiliki pesan baru\")"
      ],
      "metadata": {
        "colab": {
          "base_uri": "https://localhost:8080/"
        },
        "id": "LYMS9QTweCFx",
        "outputId": "e4c30871-8571-4a3e-ede3-be963363aa63"
      },
      "execution_count": null,
      "outputs": [
        {
          "output_type": "stream",
          "name": "stdout",
          "text": [
            "Anda memiliki pesan baru\n"
          ]
        }
      ]
    },
    {
      "cell_type": "code",
      "source": [
        "umur = input(\"Berapa umur kamu: \")\n",
        "if int(umur) >= 18:\n",
        "  print(\"Kamu boleh membuat SIM\")\n",
        "else:\n",
        "  print(\"Kamu belum bisa membuat SIM\")"
      ],
      "metadata": {
        "colab": {
          "base_uri": "https://localhost:8080/"
        },
        "id": "uIdwRfrxeSUP",
        "outputId": "39f58bf9-b703-422c-d193-1d70d06d644f"
      },
      "execution_count": null,
      "outputs": [
        {
          "output_type": "stream",
          "name": "stdout",
          "text": [
            "Berapa umur kamu: 20\n",
            "Kamu boleh membuat SIM\n"
          ]
        }
      ]
    },
    {
      "cell_type": "code",
      "source": [
        "total_belanja = int(input(\"Masukkan Jumlah Belanja: Rp. \"))\n",
        "if total_belanja > 20000:\n",
        "  diskon = total_belanja * 0.10\n",
        "  total_bayar = total_belanja - diskon\n",
        "  print (f\"Anda mendapatkan diskon! Total bayar: Rp. {total_bayar}\")\n",
        "else:\n",
        "  print(f\"Total bayar: Rp. {total_belanja} \")"
      ],
      "metadata": {
        "colab": {
          "base_uri": "https://localhost:8080/"
        },
        "id": "WvdOEiw2epQB",
        "outputId": "827be9af-2f28-40ad-c7a8-4abe93339d95"
      },
      "execution_count": null,
      "outputs": [
        {
          "output_type": "stream",
          "name": "stdout",
          "text": [
            "Masukkan Jumlah Belanja: Rp. 10000\n",
            "Total bayar: Rp. 10000 \n"
          ]
        }
      ]
    },
    {
      "cell_type": "code",
      "source": [
        "angka = int(input(\"Masukkan Bilangan: \"))\n",
        "if angka % 2 == 0:\n",
        "  print (\"Bilangan Genap\")\n",
        "else:\n",
        "  print (\"Bilangan Ganjil\")"
      ],
      "metadata": {
        "colab": {
          "base_uri": "https://localhost:8080/"
        },
        "id": "9wR9qAwIfl8Y",
        "outputId": "6970712a-1924-4f79-bfae-c238bd5a00c2"
      },
      "execution_count": null,
      "outputs": [
        {
          "output_type": "stream",
          "name": "stdout",
          "text": [
            "Masukkan Bilangan: 15\n",
            "Bilangan Ganjil\n"
          ]
        }
      ]
    },
    {
      "cell_type": "code",
      "source": [
        "nilai = 80\n",
        "if nilai >= 80:\n",
        "  print(\"Luar biasa! Nilai A\")\n",
        "elif nilai >= 70:\n",
        "  print(\"Bagus! Nilai B\")\n",
        "elif nilai >= 60:\n",
        "  print(\"Cukup! Nilai C\")\n",
        "else:\n",
        "  print(\"Nilai kurang, belajar lebih giat.\")"
      ],
      "metadata": {
        "colab": {
          "base_uri": "https://localhost:8080/"
        },
        "id": "pjL8CC1tf6Xo",
        "outputId": "803496d8-fc05-4ed2-c090-093b54488dfc"
      },
      "execution_count": null,
      "outputs": [
        {
          "output_type": "stream",
          "name": "stdout",
          "text": [
            "Luar biasa! Nilai A\n"
          ]
        }
      ]
    },
    {
      "cell_type": "code",
      "source": [
        "#Menentukan jenis diskon berdasarka hari\n",
        "hari = \"Sabtu\"\n",
        "if hari == \"Sabtu\" or hari == \"Minggu\":\n",
        "  diskon = 0.20\n",
        "  print(f\"Selamat! anda mendapatkan diskon akhir pekan sebesar {diskon*100}%\")\n",
        "elif hari  == \"Jumat\":\n",
        "  diskon = 0.15\n",
        "  print(f\"Diskon spesial Jumat! Anda mendapatkan potongan sebesar {diskon*100}% \")\n",
        "else:\n",
        "  diskon = 0.05\n",
        "  print(f\"Anda mendapatkan diskon hari biasa sebesar {diskon * 100}%\")"
      ],
      "metadata": {
        "colab": {
          "base_uri": "https://localhost:8080/"
        },
        "id": "C5zaC_axgoTZ",
        "outputId": "aad0363f-9e18-4b13-af36-b94ef327f3f9"
      },
      "execution_count": null,
      "outputs": [
        {
          "output_type": "stream",
          "name": "stdout",
          "text": [
            "Selamat! anda mendapatkan diskon akhir pekan sebesar 20.0%\n"
          ]
        }
      ]
    },
    {
      "cell_type": "code",
      "source": [
        "rupiah = int(input(\"Masukkan jumlah uang (Rp): \"))\n",
        "print (\"1. Dollar (USD)\")\n",
        "print (\"2. Euro (EUR)\")\n",
        "print (\"3. Yen (JPY)\")\n",
        "pilih = int(input(\"Pilih konversi uang (1/2/3)\"))\n",
        "\n",
        "if pilih == 1:\n",
        "  print (\"Dalam Dollar:\", rupiah/15000)\n",
        "elif pilih == 2:\n",
        "  print(\"Dalam Euro:\", rupiah/16000)\n",
        "elif pilih == 3:\n",
        "  print(\"Dalam Yen:\", rupiah/120)\n",
        "else:\n",
        "  print(\"Pilihan tidak valid\")"
      ],
      "metadata": {
        "colab": {
          "base_uri": "https://localhost:8080/"
        },
        "id": "yjR3Gto6iNcR",
        "outputId": "748f47cb-ba96-4af8-f7b3-79eaa0db0c90"
      },
      "execution_count": null,
      "outputs": [
        {
          "output_type": "stream",
          "name": "stdout",
          "text": [
            "Masukkan jumlah uang (Rp): 500000\n",
            "1. Dollar (USD)\n",
            "2. Euro (EUR)\n",
            "3. Yen (JPY)\n",
            "Pilih konversi uang (1/2/3)3\n",
            "Dalam Yen: 4166.666666666667\n"
          ]
        }
      ]
    }
  ]
}