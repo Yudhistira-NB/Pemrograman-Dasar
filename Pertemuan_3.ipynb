{
  "nbformat": 4,
  "nbformat_minor": 0,
  "metadata": {
    "colab": {
      "provenance": [],
      "authorship_tag": "ABX9TyPLDwc8zKxyhjAzeVMRPCgO",
      "include_colab_link": true
    },
    "kernelspec": {
      "name": "python3",
      "display_name": "Python 3"
    },
    "language_info": {
      "name": "python"
    }
  },
  "cells": [
    {
      "cell_type": "markdown",
      "metadata": {
        "id": "view-in-github",
        "colab_type": "text"
      },
      "source": [
        "<a href=\"https://colab.research.google.com/github/Yudhistira-NB/Pemrograman-Dasar/blob/main/Pertemuan_3.ipynb\" target=\"_parent\"><img src=\"https://colab.research.google.com/assets/colab-badge.svg\" alt=\"Open In Colab\"/></a>"
      ]
    },
    {
      "cell_type": "code",
      "source": [
        "nama = str(input(\"Siapa nama pelanggan? :\"))\n",
        "total = float(input(\"Berapa banyak porsi yang di pesan? :\"))"
      ],
      "metadata": {
        "colab": {
          "base_uri": "https://localhost:8080/"
        },
        "id": "5WsxLLdCt0-P",
        "outputId": "5ec82258-c6f9-4c55-b0f1-14af18a28902"
      },
      "execution_count": 12,
      "outputs": [
        {
          "name": "stdout",
          "output_type": "stream",
          "text": [
            "Siapa nama pelanggan? :Asep\n",
            "Berapa banyak porsi yang di pesan? :1.5\n"
          ]
        }
      ]
    },
    {
      "cell_type": "code",
      "source": [
        "food = \"Mie ayam bakso\"\n",
        "print (\"Hendi sedang memesan\", food)\n",
        "print (\"Hendi sedang memesan \"+ food)\n",
        "print (\"Hendi sedang memesan %s\" % (food))"
      ],
      "metadata": {
        "id": "HBfaxlerikng",
        "colab": {
          "base_uri": "https://localhost:8080/"
        },
        "outputId": "4050afc1-bfef-4c04-9eaf-bb3f3a96c378"
      },
      "execution_count": null,
      "outputs": [
        {
          "output_type": "stream",
          "name": "stdout",
          "text": [
            "Hendi sedang memesan Mie ayam bakso\n",
            "Hendi sedang memesan Mie ayam bakso\n",
            "Hendi sedang memesan Mie ayam bakso\n"
          ]
        }
      ]
    },
    {
      "cell_type": "code",
      "source": [
        "#Karakter Persen(%)\n",
        "total_porsi = 3\n",
        "price_per_porsi = 10500.55\n",
        "food = \"Mie Ayam\"\n",
        "kode_pesanan = 300\n",
        "\n",
        "#Integer (%d)\n",
        "print (\"Hendi memesan sebanyak %d porsi\" % (total_porsi))\n",
        "#Float (%f)\n",
        "print (\"Hendi membayar sebanyak %f\" % (price_per_porsi*3))\n",
        "#String (%s)\n",
        "print (\"Hendi sedang memesan %s\" % (food))\n",
        "#Heksadesimal (%x)\n",
        "print (\"Kode pesanan dalam Hexa %x\" % (kode_pesanan))\n",
        "#Octal (%o)\n",
        "print (\"Kode pesanan dalam octal %o\" % (kode_pesanan))"
      ],
      "metadata": {
        "colab": {
          "base_uri": "https://localhost:8080/"
        },
        "id": "iy-zAjcR8g6b",
        "outputId": "5cd057f4-f5bb-4325-fca1-0bf0e8da60de"
      },
      "execution_count": 15,
      "outputs": [
        {
          "output_type": "stream",
          "name": "stdout",
          "text": [
            "Hendi memesan sebanyak 3 porsi\n",
            "Hendi membayar sebanyak 31501.650000\n",
            "Hendi sedang memesan Mie Ayam\n",
            "Kode pesanan dalam Hexa 12c\n",
            "Kode pesanan dalam octal 454\n"
          ]
        }
      ]
    },
    {
      "cell_type": "code",
      "source": [
        "#Koneversi waktu\n",
        "total_detik = int(input(\"Jumlah detik? \"))\n",
        "jam = total_detik // 3600\n",
        "sisa_detik = total_detik % 3600\n",
        "menit = sisa_detik // 60\n",
        "detik = sisa_detik % 60\n",
        "print(f\"Hasil konversi: {jam} jam, {menit} menit, {detik} detik\")"
      ],
      "metadata": {
        "colab": {
          "base_uri": "https://localhost:8080/"
        },
        "id": "GHQ8jjuI1dsV",
        "outputId": "5c0fe3be-fa76-4d01-a679-e55eeec629d1"
      },
      "execution_count": null,
      "outputs": [
        {
          "output_type": "stream",
          "name": "stdout",
          "text": [
            "Jumlah detik? 358200\n",
            "Hasil konversi: 99 jam, 30 menit, 0 detik\n"
          ]
        }
      ]
    },
    {
      "cell_type": "code",
      "source": [
        "#Menghitung nilai akhir mahasiswa\n",
        "nilai_keaktifan = int(input(\"Masukkan nilai keaktifan: \"))\n",
        "nilai_tugas = int(input(\"Masukkan nilai tugas: \"))\n",
        "nilai_uts = int(input(\"Masukkan nilai UTS: \"))\n",
        "nilai_aas = int(input(\"Masukkan nilai AAS: \"))\n",
        "\n",
        "nilai_mahasiswa = (0.2 * nilai_keaktifan) + (0.4 * nilai_tugas) + (0.2 * nilai_uts) + (0.2 * nilai_aas)\n",
        "standar_kelulusan = int(input(\"Masukkan nilai standar kelulusan :\"))\n",
        "apakah_lulus = nilai_mahasiswa >= standar_kelulusan\n",
        "perlu_remedial = nilai_mahasiswa < standar_kelulusan\n",
        "\n",
        "print(f\"Nilai mahasiswa: {nilai_mahasiswa}\")\n",
        "print(f\"Standar kelulusan: {standar_kelulusan}\")\n",
        "print(f\"Apakah mahasiswa lulus? {apakah_lulus}\")\n",
        "print(f\"Perlu Remedial: {perlu_remedial}\")"
      ],
      "metadata": {
        "colab": {
          "base_uri": "https://localhost:8080/"
        },
        "id": "aXTBhMT6DUT6",
        "outputId": "a5a606be-3702-473e-8746-5c190f99e5b3"
      },
      "execution_count": null,
      "outputs": [
        {
          "output_type": "stream",
          "name": "stdout",
          "text": [
            "Masukkan nilai keaktifan: 90\n",
            "Masukkan nilai tugas: 80\n",
            "Masukkan nilai UTS: 90\n",
            "Masukkan nilai AAS: 90\n",
            "Masukkan nilai standar kelulusan :70\n",
            "Nilai mahasiswa: 86.0\n",
            "Standar kelulusan: 70\n",
            "Apakah mahasiswa lulus? True\n",
            "Perlu Remedial: False\n"
          ]
        }
      ]
    },
    {
      "cell_type": "code",
      "source": [
        "belanja = int(input(\"Total belanja? \"))\n",
        "diskon = (0, 0.35 * belanja)[belanja > 1000000]\n",
        "total_harga = belanja-diskon\n",
        "print(\"Total harga setelah diskon =\", total_harga)"
      ],
      "metadata": {
        "colab": {
          "base_uri": "https://localhost:8080/"
        },
        "id": "qWT_CDk6L1H0",
        "outputId": "75f08973-3f18-40fd-c337-49d199c508b8"
      },
      "execution_count": 21,
      "outputs": [
        {
          "output_type": "stream",
          "name": "stdout",
          "text": [
            "Total belanja? 3000000\n",
            "Total harga setelah diskon = 1950000.0\n"
          ]
        }
      ]
    }
  ]
}