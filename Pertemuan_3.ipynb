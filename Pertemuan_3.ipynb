{
  "nbformat": 4,
  "nbformat_minor": 0,
  "metadata": {
    "colab": {
      "provenance": [],
      "authorship_tag": "ABX9TyM0SIEq8wsN/Q9tyU9qNTDn",
      "include_colab_link": true
    },
    "kernelspec": {
      "name": "python3",
      "display_name": "Python 3"
    },
    "language_info": {
      "name": "python"
    }
  },
  "cells": [
    {
      "cell_type": "markdown",
      "metadata": {
        "id": "view-in-github",
        "colab_type": "text"
      },
      "source": [
        "<a href=\"https://colab.research.google.com/github/Yudhistira-NB/Pemrograman-Dasar/blob/main/Pertemuan_3.ipynb\" target=\"_parent\"><img src=\"https://colab.research.google.com/assets/colab-badge.svg\" alt=\"Open In Colab\"/></a>"
      ]
    },
    {
      "cell_type": "code",
      "execution_count": 11,
      "metadata": {
        "colab": {
          "base_uri": "https://localhost:8080/"
        },
        "id": "c_oT5BEth_Ae",
        "outputId": "792b2acd-f29d-4673-8d3d-d6b4b08a915b"
      },
      "outputs": [
        {
          "name": "stdout",
          "output_type": "stream",
          "text": [
            "Berapa porsi makan yang anda beli? : 21.5\n",
            "Siapa nama pelanggan? : asep\n"
          ]
        }
      ],
      "source": [
        "total = input(\"Berapa porsi makan yang anda beli? : \")\n",
        "nama = input(\"Siapa nama pelanggan? : \")"
      ]
    },
    {
      "cell_type": "code",
      "source": [
        "total = float (input(\"Berapa porsi makan yag anda beli? : \"))\n",
        "nama = int (input(\"Siapa nama pelanggan ? :\"))"
      ],
      "metadata": {
        "colab": {
          "base_uri": "https://localhost:8080/"
        },
        "id": "onaCxJGpiZf5",
        "outputId": "2972b4aa-7319-4ccd-be0e-d2be7cf3b9bf"
      },
      "execution_count": 10,
      "outputs": [
        {
          "name": "stdout",
          "output_type": "stream",
          "text": [
            "Berapa porsi makan yag anda beli? : 10.5\n",
            "Siapa nama pelanggan ? :21\n"
          ]
        }
      ]
    },
    {
      "cell_type": "code",
      "source": [
        "food = \"Mie ayam bakso\"\n",
        "print (\"Hendi sedang memesan\", food)\n",
        "print (\"Hendi sedang memesan \"+ food)\n",
        "print (\"Hendi sedang memesan %s\" % (food))"
      ],
      "metadata": {
        "id": "HBfaxlerikng",
        "colab": {
          "base_uri": "https://localhost:8080/"
        },
        "outputId": "8cec8f08-bc4b-4db8-bf7b-0a4429d42893"
      },
      "execution_count": 15,
      "outputs": [
        {
          "output_type": "stream",
          "name": "stdout",
          "text": [
            "Hendi sedang memesan Mie ayam bakso\n",
            "Hendi sedang memesan Mie ayam bakso\n",
            "Hendi sedang memesan Mie ayam bakso\n"
          ]
        }
      ]
    },
    {
      "cell_type": "code",
      "source": [
        "#Karakter Persen(%)\n",
        "total_porsi = 3\n",
        "price_per_porsi = 10500.55\n",
        "food = \"Mie Ayam\"\n",
        "kode_pesanan = 300\n",
        "\n",
        "#Integer (%d)\n",
        "print (\"Hendi memesan sebanyak %d porsi\" % (total_porsi))\n",
        "#Float (%f)\n",
        "print (\"Hendi membayar sebanyak %f\" % (price_per_porsi*3))\n",
        "#String (%s)\n",
        "print (\"Hendi sedang memesan %s\" % (food))\n",
        "#Heksadesimal (%x)\n",
        "print (\"Kode pesanan dalam Hexa %x\" % (kode_pesanan))\n",
        "#Octal (%o)\n",
        "print (\"Kode pesanan dalam Hexa %o\" % (kode_pesanan))"
      ],
      "metadata": {
        "colab": {
          "base_uri": "https://localhost:8080/"
        },
        "id": "iy-zAjcR8g6b",
        "outputId": "484748b8-b1f7-4975-83e5-dc70accc38af"
      },
      "execution_count": 27,
      "outputs": [
        {
          "output_type": "stream",
          "name": "stdout",
          "text": [
            "Hendi memesan sebanyak 3 porsi\n",
            "Hendi membayar sebanyak 31501.650000\n",
            "Hendi sedang memesan Mie Ayam\n",
            "Kode pesanan dalam Hexa 12c\n",
            "Kode pesanan dalam Hexa 454\n"
          ]
        }
      ]
    }
  ]
}